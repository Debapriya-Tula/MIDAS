{
 "cells": [
  {
   "cell_type": "markdown",
   "metadata": {},
   "source": [
    "## Using Tweety module in Python for retrieving tweets on the handle \"@midasIIITD\""
   ]
  },
  {
   "cell_type": "code",
   "execution_count": 1,
   "metadata": {},
   "outputs": [],
   "source": [
    "# Importing required modules\n",
    "import tweepy\n",
    "from tweepy import Cursor\n",
    "\n",
    "# Modules for storing in jsonl file\n",
    "import json\n",
    "import jsonlines\n",
    "\n",
    "# For displaying the results in a dataframe\n",
    "import pandas as pd\n",
    "\n",
    "# tqdm module for progress bar\n",
    "from tqdm import tqdm"
   ]
  },
  {
   "cell_type": "code",
   "execution_count": 2,
   "metadata": {},
   "outputs": [],
   "source": [
    "# Twitter's various tokens\n",
    "access_token = '973989087806926858-ktTmptcWD8onX1zYQdiiluvyNFzsat2'#remove before submission\n",
    "access_token_secret = '0vgcIz1dBU5OxbmSHrv2Tmu24EoDh3rse1z6Ax7cakFzn'\n",
    "consumer_key = '6nSFIRtM87G5DH3mkl6DoaJCN'\n",
    "consumer_secret = 'meZ0SMV6wV6yrNLaRKChy8Lz6otml4qhIlRGL7SZSoh2zIJdZh'"
   ]
  },
  {
   "cell_type": "code",
   "execution_count": null,
   "metadata": {},
   "outputs": [],
   "source": [
    "# Authentication with the Twitter API\n",
    "auth = tweepy.OAuthHandler(consumer_key, consumer_secret)\n",
    "auth.set_access_token(access_token, access_token_secret)\n",
    "api = tweepy.API(auth)\n",
    "print('Authorised!')"
   ]
  }
 ],
 "metadata": {
  "kernelspec": {
   "display_name": "Python 3",
   "language": "python",
   "name": "python3"
  },
  "language_info": {
   "codemirror_mode": {
    "name": "ipython",
    "version": 3
   },
   "file_extension": ".py",
   "mimetype": "text/x-python",
   "name": "python",
   "nbconvert_exporter": "python",
   "pygments_lexer": "ipython3",
   "version": "3.6.4"
  }
 },
 "nbformat": 4,
 "nbformat_minor": 2
}
