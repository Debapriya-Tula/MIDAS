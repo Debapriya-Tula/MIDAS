{
 "cells": [
  {
   "cell_type": "markdown",
   "metadata": {},
   "source": [
    "## Using the Tweety module in Python for retrieving tweets on the handle \"@midasIIITD\""
   ]
  },
  {
   "cell_type": "code",
   "execution_count": null,
   "metadata": {},
   "outputs": [],
   "source": [
    "# Importing required modules\n",
    "import tweepy\n",
    "from tweepy import Cursor\n",
    "\n",
    "# Modules for storing in jsonl file\n",
    "import json\n",
    "import jsonlines\n",
    "\n",
    "# For displaying the results in a dataframe\n",
    "import pandas as pd\n",
    "\n",
    "# tqdm module for progress bar\n",
    "from tqdm import tqdm"
   ]
  },
  {
   "cell_type": "code",
   "execution_count": null,
   "metadata": {},
   "outputs": [],
   "source": [
    "# Twitter's various tokens(please enter your tokens for checking)\n",
    "access_token = 'ACCESS_TOKEN'\n",
    "access_token_secret = 'ACCESS_TOKEN_SECRET'\n",
    "consumer_key = 'CONSUMER_KEY'\n",
    "consumer_secret = 'CONSUMER_SECRET_KEY'"
   ]
  },
  {
   "cell_type": "code",
   "execution_count": null,
   "metadata": {},
   "outputs": [],
   "source": [
    "# Authentication with the Twitter API\n",
    "auth = tweepy.OAuthHandler(consumer_key, consumer_secret)\n",
    "auth.set_access_token(access_token, access_token_secret)\n",
    "api = tweepy.API(auth)\n",
    "print('Authorised!')"
   ]
  },
  {
   "cell_type": "code",
   "execution_count": null,
   "metadata": {},
   "outputs": [],
   "source": [
    "# Handle name by which to search\n",
    "uname = '@midasIIITD'"
   ]
  },
  {
   "cell_type": "code",
   "execution_count": null,
   "metadata": {},
   "outputs": [],
   "source": [
    "# Cursor implementation of the Twitter API for pagination\n",
    "\n",
    "# Query for the twitter search. It returns all tweets with screename as 'midas@IIITD'\n",
    "tweets = Cursor(api.user_timeline, screen_name = uname).items()"
   ]
  },
  {
   "cell_type": "code",
   "execution_count": null,
   "metadata": {},
   "outputs": [],
   "source": [
    "# The jsonl file to which the content will be written \n",
    "writer = jsonlines.open(\"content_dump.jsonl\", \"w\")\n",
    "writer.close()"
   ]
  },
  {
   "cell_type": "code",
   "execution_count": null,
   "metadata": {},
   "outputs": [],
   "source": [
    "# Iterating over all the tweets and storing required content in a dictionary 'store_dict'\n",
    "for tweet in tqdm(tweets):\n",
    "    # Fetching the number of images in a tweet\n",
    "    image_count = 0\n",
    "    for media in tweet.entities.get(\"media\",[{}]):\n",
    "        if media.get(\"type\",None) == \"photo\":\n",
    "            image_count += 1\n",
    "\n",
    "    store_dict = {'text': tweet._json['text'], \"date_time\": tweet._json['created_at'],\n",
    "    'favorite_count': tweet._json['favorite_count'], 'retweet_count': tweet._json['retweet_count'],\n",
    "    'image_count': image_count}\n",
    "    \n",
    "    # Writing(appending) into the file the values stored in 'store_dict'\n",
    "    with jsonlines.open(\"content_dump.jsonl\",\"a\") as writer:\n",
    "        writer.write(store_dict)"
   ]
  },
  {
   "cell_type": "code",
   "execution_count": null,
   "metadata": {},
   "outputs": [],
   "source": [
    "# Identifying the keys to feed into a dataframe\n",
    "keys = ['text', 'date_time', 'favorite_count', 'retweet_count', 'image_count']\n",
    "\n",
    "# Creating a dataframe to display in a tabular format\n",
    "display_df = pd.DataFrame(columns=keys)\n",
    "\n",
    "print(\"Reading from jsonl file......\")\n",
    "\n",
    "\n",
    "with open(\"content_dump.jsonl\", \"r\") as tweets:\n",
    "    # Using the Reader object to iterate over the tweets\n",
    "    for item in tqdm(jsonlines.Reader(tweets)):\n",
    "        # Storing each dictionary into a dataframe\n",
    "        temp_df = pd.DataFrame(item, columns=keys, index=[0])\n",
    "        # Appending this dataframe to the main dataframe\n",
    "        display_df = display_df.append(temp_df, ignore_index=True)\n",
    "\n",
    "# Displaying only the first 30 records stored in the jsonl file\n",
    "print(display_df.head(30))"
   ]
  }
 ],
 "metadata": {
  "kernelspec": {
   "display_name": "Python 3",
   "language": "python",
   "name": "python3"
  },
  "language_info": {
   "codemirror_mode": {
    "name": "ipython",
    "version": 3
   },
   "file_extension": ".py",
   "mimetype": "text/x-python",
   "name": "python",
   "nbconvert_exporter": "python",
   "pygments_lexer": "ipython3",
   "version": "3.6.4"
  }
 },
 "nbformat": 4,
 "nbformat_minor": 2
}
